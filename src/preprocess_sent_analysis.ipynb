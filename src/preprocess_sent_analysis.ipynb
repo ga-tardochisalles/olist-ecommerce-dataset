{
 "cells": [
  {
   "cell_type": "code",
   "execution_count": 1,
   "id": "numeric-knight",
   "metadata": {},
   "outputs": [],
   "source": [
    "import os\n",
    "import re\n",
    "import pandas as pd\n",
    "import numpy as np\n",
    "from unidecode import unidecode"
   ]
  },
  {
   "cell_type": "code",
   "execution_count": 2,
   "id": "amazing-embassy",
   "metadata": {},
   "outputs": [],
   "source": [
    "raw_data_path = \"../data/raw/olist_order_reviews_dataset.csv\"\n",
    "out_path = \"../data/processed/order_review_classification_ptbr.csv\""
   ]
  },
  {
   "cell_type": "code",
   "execution_count": 3,
   "id": "described-notification",
   "metadata": {},
   "outputs": [],
   "source": [
    "order_reviews = pd.read_csv(raw_data_path)"
   ]
  },
  {
   "cell_type": "code",
   "execution_count": 4,
   "id": "oriented-evaluation",
   "metadata": {},
   "outputs": [
    {
     "data": {
      "text/html": [
       "<div>\n",
       "<style scoped>\n",
       "    .dataframe tbody tr th:only-of-type {\n",
       "        vertical-align: middle;\n",
       "    }\n",
       "\n",
       "    .dataframe tbody tr th {\n",
       "        vertical-align: top;\n",
       "    }\n",
       "\n",
       "    .dataframe thead th {\n",
       "        text-align: right;\n",
       "    }\n",
       "</style>\n",
       "<table border=\"1\" class=\"dataframe\">\n",
       "  <thead>\n",
       "    <tr style=\"text-align: right;\">\n",
       "      <th></th>\n",
       "      <th>review_id</th>\n",
       "      <th>order_id</th>\n",
       "      <th>review_score</th>\n",
       "      <th>review_comment_title</th>\n",
       "      <th>review_comment_message</th>\n",
       "      <th>review_creation_date</th>\n",
       "      <th>review_answer_timestamp</th>\n",
       "    </tr>\n",
       "  </thead>\n",
       "  <tbody>\n",
       "    <tr>\n",
       "      <th>0</th>\n",
       "      <td>7bc2406110b926393aa56f80a40eba40</td>\n",
       "      <td>73fc7af87114b39712e6da79b0a377eb</td>\n",
       "      <td>4</td>\n",
       "      <td>NaN</td>\n",
       "      <td>NaN</td>\n",
       "      <td>2018-01-18 00:00:00</td>\n",
       "      <td>2018-01-18 21:46:59</td>\n",
       "    </tr>\n",
       "    <tr>\n",
       "      <th>1</th>\n",
       "      <td>80e641a11e56f04c1ad469d5645fdfde</td>\n",
       "      <td>a548910a1c6147796b98fdf73dbeba33</td>\n",
       "      <td>5</td>\n",
       "      <td>NaN</td>\n",
       "      <td>NaN</td>\n",
       "      <td>2018-03-10 00:00:00</td>\n",
       "      <td>2018-03-11 03:05:13</td>\n",
       "    </tr>\n",
       "  </tbody>\n",
       "</table>\n",
       "</div>"
      ],
      "text/plain": [
       "                          review_id                          order_id  \\\n",
       "0  7bc2406110b926393aa56f80a40eba40  73fc7af87114b39712e6da79b0a377eb   \n",
       "1  80e641a11e56f04c1ad469d5645fdfde  a548910a1c6147796b98fdf73dbeba33   \n",
       "\n",
       "   review_score review_comment_title review_comment_message  \\\n",
       "0             4                  NaN                    NaN   \n",
       "1             5                  NaN                    NaN   \n",
       "\n",
       "  review_creation_date review_answer_timestamp  \n",
       "0  2018-01-18 00:00:00     2018-01-18 21:46:59  \n",
       "1  2018-03-10 00:00:00     2018-03-11 03:05:13  "
      ]
     },
     "execution_count": 4,
     "metadata": {},
     "output_type": "execute_result"
    }
   ],
   "source": [
    "order_reviews.head(2)"
   ]
  },
  {
   "cell_type": "code",
   "execution_count": 5,
   "id": "homeless-kuwait",
   "metadata": {},
   "outputs": [],
   "source": [
    "def concat_text(row):\n",
    "    if pd.isnull(row['review_comment_title']):\n",
    "        return row['review_comment_message']\n",
    "    elif pd.isnull(row['review_comment_message']):\n",
    "        return row['review_comment_title']\n",
    "    else:\n",
    "        return row['review_comment_title'] + '. ' + row['review_comment_message']\n",
    "\n",
    "reviews_df = order_reviews[['review_id','review_score','review_comment_title','review_comment_message']]\n",
    "reviews_df = reviews_df[~((reviews_df['review_comment_title'].isna()) & (reviews_df['review_comment_message'].isna()))]\n",
    "reviews_df.drop_duplicates(subset=['review_id'], inplace=True)\n",
    "\n",
    "reviews_df['comments'] = reviews_df.apply(lambda row: concat_text(row), axis=1)\n",
    "reviews_df['sentiment'] = np.where(reviews_df.review_score < 4, 'neg', 'pos')"
   ]
  },
  {
   "cell_type": "code",
   "execution_count": 6,
   "id": "anticipated-classification",
   "metadata": {},
   "outputs": [
    {
     "name": "stdout",
     "output_type": "stream",
     "text": [
      "boa\n",
      "boa \n",
      "\n",
      "Produto entregue sem defeito e dentro do prazo, mas o produto não é bom; a base é de plástico e muito ruim, as argolas são ruins também.\n",
      "produto entregue sem defeito e dentro do prazo, mas o produto nao e bom; a base e de plastico e muito ruim, as argolas sao ruins tambem. \n",
      "\n",
      "super recomendo. Recebi corretamente e até antes do esperado \n",
      "super recomendo. recebi corretamente e ate antes do esperado \n",
      "\n"
     ]
    }
   ],
   "source": [
    "for rev in reviews_df[reviews_df['review_score'] == 4].comments.sample(3).tolist():\n",
    "    print(rev)\n",
    "    print(re.sub(r'[^A-Za-z0-9 !:.,-?$]+', '', unidecode(rev)).strip().lower(), '\\n')"
   ]
  },
  {
   "cell_type": "code",
   "execution_count": 7,
   "id": "given-military",
   "metadata": {},
   "outputs": [
    {
     "data": {
      "text/html": [
       "<div>\n",
       "<style scoped>\n",
       "    .dataframe tbody tr th:only-of-type {\n",
       "        vertical-align: middle;\n",
       "    }\n",
       "\n",
       "    .dataframe tbody tr th {\n",
       "        vertical-align: top;\n",
       "    }\n",
       "\n",
       "    .dataframe thead th {\n",
       "        text-align: right;\n",
       "    }\n",
       "</style>\n",
       "<table border=\"1\" class=\"dataframe\">\n",
       "  <thead>\n",
       "    <tr style=\"text-align: right;\">\n",
       "      <th></th>\n",
       "      <th>comments</th>\n",
       "      <th>sentiment</th>\n",
       "    </tr>\n",
       "  </thead>\n",
       "  <tbody>\n",
       "    <tr>\n",
       "      <th>0</th>\n",
       "      <td>recebi bem antes do prazo estipulado.</td>\n",
       "      <td>pos</td>\n",
       "    </tr>\n",
       "    <tr>\n",
       "      <th>1</th>\n",
       "      <td>parabens lojas lannister adorei comprar pela i...</td>\n",
       "      <td>pos</td>\n",
       "    </tr>\n",
       "    <tr>\n",
       "      <th>2</th>\n",
       "      <td>recomendo. aparelho eficiente. no site a marca...</td>\n",
       "      <td>pos</td>\n",
       "    </tr>\n",
       "  </tbody>\n",
       "</table>\n",
       "</div>"
      ],
      "text/plain": [
       "                                            comments sentiment\n",
       "0              recebi bem antes do prazo estipulado.       pos\n",
       "1  parabens lojas lannister adorei comprar pela i...       pos\n",
       "2  recomendo. aparelho eficiente. no site a marca...       pos"
      ]
     },
     "execution_count": 7,
     "metadata": {},
     "output_type": "execute_result"
    }
   ],
   "source": [
    "def fix_sentence(sentence):\n",
    "    \"\"\"\n",
    "    keep only alphanumeric/single spaces/some puctuations and ignore non-ascii chars\n",
    "    \"\"\"\n",
    "    return re.sub(r'[^A-Za-z0-9 !:.,-?$]+', '', unidecode(sentence)).strip().lower()\n",
    "\n",
    "reviews_df = reviews_df[['comments','sentiment']]\n",
    "reviews_df['comments'] = reviews_df['comments'].apply(fix_sentence)\n",
    "reviews_df.dropna(inplace=True)\n",
    "reviews_df = reviews_df[reviews_df.comments.str.replace(' ', '', regex=False).str.len() >= 2]\n",
    "reviews_df.reset_index(drop=True, inplace=True)\n",
    "reviews_df.head(3)"
   ]
  },
  {
   "cell_type": "code",
   "execution_count": 8,
   "id": "recreational-lighting",
   "metadata": {},
   "outputs": [],
   "source": [
    "reviews_df.to_csv(out_path, index=False, sep=\";\")"
   ]
  },
  {
   "cell_type": "code",
   "execution_count": 1,
   "id": "sixth-threshold",
   "metadata": {},
   "outputs": [],
   "source": [
    "import random\n",
    "\n",
    "reviews_df['mdl_prediction'] = reviews_df.sentiment.apply(lambda sent: random.uniform(0.45, 1) if sent == 'pos' else random.uniform(0.0, 0.55))"
   ]
  },
  {
   "cell_type": "code",
   "execution_count": 3,
   "id": "introductory-combat",
   "metadata": {},
   "outputs": [
    {
     "data": {
      "text/plain": [
       "0.6367024653465414"
      ]
     },
     "execution_count": 3,
     "metadata": {},
     "output_type": "execute_result"
    }
   ],
   "source": [
    "random.uniform(0.5, 1)"
   ]
  }
 ],
 "metadata": {
  "kernelspec": {
   "display_name": "Python 3",
   "language": "python",
   "name": "python3"
  },
  "language_info": {
   "codemirror_mode": {
    "name": "ipython",
    "version": 3
   },
   "file_extension": ".py",
   "mimetype": "text/x-python",
   "name": "python",
   "nbconvert_exporter": "python",
   "pygments_lexer": "ipython3",
   "version": "3.7.5"
  }
 },
 "nbformat": 4,
 "nbformat_minor": 5
}
